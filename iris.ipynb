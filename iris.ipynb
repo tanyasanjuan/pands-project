{
 "cells": [
  {
   "cell_type": "markdown",
   "id": "44f14d0a",
   "metadata": {},
   "source": [
    "# Iris Dataset Analysis Project"
   ]
  },
  {
   "cell_type": "markdown",
   "id": "154e2e6b",
   "metadata": {},
   "source": [
    "This program analyzes the Iris dataset.\n",
    "- It loads the dataset, performs exploratory data analysis (EDA), and visualizes the data.\n",
    "- Outputs a summary of each variable to a single text file.\n",
    "- Saves a histogram of each variable to png files, and\n",
    "- Outputs a scatter plot of each pair of variables."
   ]
  },
  {
   "cell_type": "markdown",
   "id": "1755abce",
   "metadata": {},
   "source": [
    "The first step is to import the libraries we need for data analysis."
   ]
  },
  {
   "cell_type": "code",
   "execution_count": null,
   "id": "9d70a34a",
   "metadata": {},
   "outputs": [],
   "source": [
    "#Import Pandas, that is a data analysis library for Python.\n",
    "import pandas as pd\n"
   ]
  },
  {
   "cell_type": "code",
   "execution_count": null,
   "id": "8ae6176c",
   "metadata": {},
   "outputs": [],
   "source": [
    "# Scikit-learn is a machine learning library for Python. \n",
    "# It contains datasets examples, including the Iris dataset.\n",
    "import sklearn as skl"
   ]
  },
  {
   "cell_type": "markdown",
   "id": "7c1bbe59",
   "metadata": {},
   "source": [
    "The dataset is in CSV format and to read it, it's necessary to use the 'read_csv' function from the pandas library.\n",
    "This specify the path to the file, meaning, it make the connection to a web server, to have a file.\n",
    "And Pandas helps to interpretate the file received."
   ]
  }
 ],
 "metadata": {
  "language_info": {
   "name": "python"
  }
 },
 "nbformat": 4,
 "nbformat_minor": 5
}

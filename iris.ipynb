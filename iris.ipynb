{
 "cells": [
  {
   "cell_type": "markdown",
   "id": "44f14d0a",
   "metadata": {},
   "source": [
    "# Iris Dataset Analysis Project"
   ]
  },
  {
   "cell_type": "markdown",
   "id": "154e2e6b",
   "metadata": {},
   "source": [
    "This program analyzes the Iris dataset.\n",
    "- It loads the dataset, performs exploratory data analysis (EDA), and visualizes the data.\n",
    "- Outputs a summary of each variable to a single text file.\n",
    "- Saves a histogram of each variable to png files, and\n",
    "- Outputs a scatter plot of each pair of variables."
   ]
  }
 ],
 "metadata": {
  "language_info": {
   "name": "python"
  }
 },
 "nbformat": 4,
 "nbformat_minor": 5
}
